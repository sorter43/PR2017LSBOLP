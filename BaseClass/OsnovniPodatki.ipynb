{
 "cells": [
  {
   "cell_type": "markdown",
   "metadata": {
    "collapsed": false
   },
   "source": [
    "# Osnovni podatki"
   ]
  },
  {
   "cell_type": "code",
   "execution_count": 1,
   "metadata": {
    "collapsed": true
   },
   "outputs": [],
   "source": [
    "import numpy as np\n",
    "import matplotlib.pyplot as plt"
   ]
  },
  {
   "cell_type": "markdown",
   "metadata": {},
   "source": [
    "## Podatki - ratings"
   ]
  },
  {
   "cell_type": "code",
   "execution_count": 2,
   "metadata": {
    "collapsed": false,
    "scrolled": true
   },
   "outputs": [
    {
     "data": {
      "text/plain": [
       "array([[  1.00000000e+00,   2.40000000e+01,  -1.00000000e+00],\n",
       "       [  1.00000000e+00,   7.90000000e+01,  -1.00000000e+00],\n",
       "       [  1.00000000e+00,   2.26000000e+02,  -1.00000000e+00],\n",
       "       ..., \n",
       "       [  3.09300000e+03,   9.51500000e+03,   8.00000000e+00],\n",
       "       [  3.09300000e+03,   9.65600000e+03,   9.00000000e+00],\n",
       "       [  3.09300000e+03,   9.75000000e+03,   6.00000000e+00]])"
      ]
     },
     "execution_count": 2,
     "metadata": {},
     "output_type": "execute_result"
    }
   ],
   "source": [
    "#data = np.loadtxt ('../rating.csv', delimiter=\",\", skiprows=1)\n",
    "data = np.loadtxt ('../ratingSAMPLE.csv', delimiter=\",\", skiprows=1)\n",
    "data"
   ]
  },
  {
   "cell_type": "markdown",
   "metadata": {},
   "source": [
    "Koda za pridobitev dejanskih ratingov (brez ogledov brey ocene)"
   ]
  },
  {
   "cell_type": "code",
   "execution_count": 3,
   "metadata": {
    "collapsed": false
   },
   "outputs": [
    {
     "data": {
      "text/plain": [
       "array([ 10.,  10.,  10., ...,   8.,   9.,   6.])"
      ]
     },
     "execution_count": 3,
     "metadata": {},
     "output_type": "execute_result"
    }
   ],
   "source": [
    "data[data[:,2]!=-1,2]"
   ]
  },
  {
   "cell_type": "markdown",
   "metadata": {},
   "source": [
    "Število vseh ratingov"
   ]
  },
  {
   "cell_type": "code",
   "execution_count": 4,
   "metadata": {
    "collapsed": false
   },
   "outputs": [
    {
     "data": {
      "text/plain": [
       "299999"
      ]
     },
     "execution_count": 4,
     "metadata": {},
     "output_type": "execute_result"
    }
   ],
   "source": [
    "len(data[:])"
   ]
  },
  {
   "cell_type": "markdown",
   "metadata": {},
   "source": [
    "Število ocenjenih animejev"
   ]
  },
  {
   "cell_type": "code",
   "execution_count": 5,
   "metadata": {
    "collapsed": false
   },
   "outputs": [
    {
     "data": {
      "text/plain": [
       "238592"
      ]
     },
     "execution_count": 5,
     "metadata": {},
     "output_type": "execute_result"
    }
   ],
   "source": [
    "len(data[data[:,2]!=-1,2])"
   ]
  },
  {
   "cell_type": "markdown",
   "metadata": {},
   "source": [
    "Število neocenjenih ratingov"
   ]
  },
  {
   "cell_type": "code",
   "execution_count": 6,
   "metadata": {
    "collapsed": false
   },
   "outputs": [
    {
     "data": {
      "text/plain": [
       "61407"
      ]
     },
     "execution_count": 6,
     "metadata": {},
     "output_type": "execute_result"
    }
   ],
   "source": [
    "len(data)-len(data[data[:,2]!=-1,2])"
   ]
  },
  {
   "cell_type": "markdown",
   "metadata": {},
   "source": [
    "Povprečni rating"
   ]
  },
  {
   "cell_type": "code",
   "execution_count": 7,
   "metadata": {
    "collapsed": false
   },
   "outputs": [
    {
     "data": {
      "text/plain": [
       "7.8694633516630903"
      ]
     },
     "execution_count": 7,
     "metadata": {},
     "output_type": "execute_result"
    }
   ],
   "source": [
    "np.mean(data[data[:,2]!=-1,2])"
   ]
  },
  {
   "cell_type": "markdown",
   "metadata": {},
   "source": [
    "Standardni odklon"
   ]
  },
  {
   "cell_type": "code",
   "execution_count": 8,
   "metadata": {
    "collapsed": false
   },
   "outputs": [
    {
     "data": {
      "text/plain": [
       "1.5287193824702126"
      ]
     },
     "execution_count": 8,
     "metadata": {},
     "output_type": "execute_result"
    }
   ],
   "source": [
    "np.std(data[data[:,2]!=-1,2])"
   ]
  },
  {
   "cell_type": "markdown",
   "metadata": {},
   "source": [
    "Varianca"
   ]
  },
  {
   "cell_type": "code",
   "execution_count": 9,
   "metadata": {
    "collapsed": false
   },
   "outputs": [
    {
     "data": {
      "text/plain": [
       "2.3369829503401078"
      ]
     },
     "execution_count": 9,
     "metadata": {},
     "output_type": "execute_result"
    }
   ],
   "source": [
    "np.var(data[data[:,2]!=-1,2])"
   ]
  },
  {
   "cell_type": "markdown",
   "metadata": {},
   "source": [
    "Minimum in maksimum"
   ]
  },
  {
   "cell_type": "code",
   "execution_count": 10,
   "metadata": {
    "collapsed": false
   },
   "outputs": [
    {
     "name": "stdout",
     "output_type": "stream",
     "text": [
      "1.0\n",
      "10.0\n"
     ]
    }
   ],
   "source": [
    "print(np.min(data[data[:,2]!=-1,2]))\n",
    "print(np.max(data[data[:,2]!=-1,2]))"
   ]
  },
  {
   "cell_type": "markdown",
   "metadata": {},
   "source": [
    "### Barplot porazdelitve"
   ]
  },
  {
   "cell_type": "code",
   "execution_count": 11,
   "metadata": {
    "collapsed": false
   },
   "outputs": [
    {
     "data": {
      "image/png": "[encoded data removed]",
      "text/plain": [
       "<matplotlib.figure.Figure at 0x22908bca400>"
      ]
     },
     "metadata": {},
     "output_type": "display_data"
    }
   ],
   "source": [
    "ratingsNum=list()\n",
    "for number in np.arange(1,10):\n",
    "    ratingsNum.append(len(data[data[:,2]==number,2]))\n",
    "\n",
    "plt.figure()\n",
    "plt.bar(np.arange(1,10),ratingsNum, 0.8, color=\"blue\")\n",
    "plt.show()"
   ]
  },
  {
   "cell_type": "markdown",
   "metadata": {},
   "source": [
    "Zaradi velikosti smo naredili sample dataset. Da se ga da dati na github, sem omejil na 3*10<sup>5</sup> vrstic"
   ]
  },
  {
   "cell_type": "code",
   "execution_count": 12,
   "metadata": {
    "collapsed": false
   },
   "outputs": [],
   "source": [
    "#ratingsSample=data[:300000,:]\n",
    "#np.savetxt('../ratingSAMPLE.csv', ratingsSample, delimiter=',')"
   ]
  },
  {
   "cell_type": "markdown",
   "metadata": {},
   "source": [
    "## Podatki - animeji"
   ]
  },
  {
   "cell_type": "code",
   "execution_count": 13,
   "metadata": {
    "collapsed": true
   },
   "outputs": [],
   "source": [
    "from csv import DictReader"
   ]
  },
  {
   "cell_type": "code",
   "execution_count": 14,
   "metadata": {
    "collapsed": false
   },
   "outputs": [],
   "source": [
    "animeDataReader = DictReader(open(\"../anime.csv\", \"rt\", encoding = \"utf-8\"))"
   ]
  },
  {
   "cell_type": "code",
   "execution_count": 15,
   "metadata": {
    "collapsed": false
   },
   "outputs": [],
   "source": [
    "genresCSV = DictReader(open(\"../zanri/statistikaZanrov.csv\", \"rt\", encoding = \"utf-8\"))"
   ]
  },
  {
   "cell_type": "code",
   "execution_count": 16,
   "metadata": {
    "collapsed": true
   },
   "outputs": [],
   "source": [
    "genres=list()\n",
    "\n",
    "for genreLine in genresCSV:\n",
    "    genres.append(genreLine[\"zanr\"])\n",
    "animeGenre=dict()"
   ]
  },
  {
   "cell_type": "code",
   "execution_count": 17,
   "metadata": {
    "collapsed": false
   },
   "outputs": [],
   "source": [
    "for row in animeDataReader:\n",
    "    i=0\n",
    "    rowGenres={}\n",
    "    for genr in genres:\n",
    "        i=i+1\n",
    "        if genr in row[\"genre\"]:\n",
    "            rowGenres[genr]=True\n",
    "        else:\n",
    "            rowGenres[genr]=False\n",
    "    animeGenre[row[\"anime_id\"]]=rowGenres"
   ]
  },
  {
   "cell_type": "markdown",
   "metadata": {},
   "source": [
    "Narejen je vgnezdeni dict objekt, ki za vsak anime hrani ali je ali ni določenega žanra"
   ]
  },
  {
   "cell_type": "code",
   "execution_count": 18,
   "metadata": {
    "collapsed": false
   },
   "outputs": [
    {
     "name": "stdout",
     "output_type": "stream",
     "text": [
      "{'Romance': True, 'Supernatural': False, 'Super Power': False, 'Yuri': False, 'Martial Arts': True, 'Horror': False, 'Space': False, 'Josei': False, 'Shoujo': True, 'Shounen Ai': False, 'Kids': False, 'Hentai': False, 'Slice of Life': False, 'Fantasy': True, 'Psychological': False, 'Ecchi': False, '?': False, 'Mecha': False, 'Parody': False, 'Sci-Fi': False, 'School': False, 'Game': False, 'Dementia': False, 'Thriller': False, 'Sports': False, 'Adventure': True, 'Vampire': False, 'Cars': False, 'Harem': False, 'Music': False, 'Action': False, 'Demons': False, 'Shounen': False, 'Shoujo Ai': False, 'Historical': True, 'Comedy': True, 'Police': False, 'Samurai': False, 'Magic': True, 'Drama': True, 'Military': False, 'Yaoi': False, 'Seinen': False, 'Mystery': False}\n"
     ]
    }
   ],
   "source": [
    "print(animeGenre['123'])"
   ]
  },
  {
   "cell_type": "code",
   "execution_count": 19,
   "metadata": {
    "collapsed": false
   },
   "outputs": [
    {
     "name": "stdout",
     "output_type": "stream",
     "text": [
      "True\n"
     ]
    }
   ],
   "source": [
    "print(animeGenre['123']['Romance'])"
   ]
  },
  {
   "cell_type": "markdown",
   "metadata": {},
   "source": [
    "Preštejemo, koliko imamo posameznih žanrov v trenutni izbiri"
   ]
  },
  {
   "cell_type": "code",
   "execution_count": 20,
   "metadata": {
    "collapsed": false
   },
   "outputs": [],
   "source": [
    "genreNum = {}\n",
    "\n",
    "for genr in genres:\n",
    "    genreNum[genr]=0\n",
    "    \n",
    "animeDataReader = DictReader(open(\"../anime.csv\", \"rt\", encoding = \"utf-8\"))\n",
    "\n",
    "for row in animeDataReader:\n",
    "    for genr in genres:\n",
    "        if animeGenre[row[\"anime_id\"]][genr]:\n",
    "            genreNum[genr]=genreNum[genr]+1"
   ]
  },
  {
   "cell_type": "code",
   "execution_count": 21,
   "metadata": {
    "collapsed": false
   },
   "outputs": [
    {
     "data": {
      "text/plain": [
       "{'?': 62,\n",
       " 'Action': 2845,\n",
       " 'Adventure': 2348,\n",
       " 'Cars': 72,\n",
       " 'Comedy': 4645,\n",
       " 'Dementia': 240,\n",
       " 'Demons': 294,\n",
       " 'Drama': 2016,\n",
       " 'Ecchi': 637,\n",
       " 'Fantasy': 2309,\n",
       " 'Game': 181,\n",
       " 'Harem': 317,\n",
       " 'Hentai': 1141,\n",
       " 'Historical': 806,\n",
       " 'Horror': 369,\n",
       " 'Josei': 54,\n",
       " 'Kids': 1609,\n",
       " 'Magic': 778,\n",
       " 'Martial Arts': 265,\n",
       " 'Mecha': 944,\n",
       " 'Military': 426,\n",
       " 'Music': 860,\n",
       " 'Mystery': 495,\n",
       " 'Parody': 408,\n",
       " 'Police': 197,\n",
       " 'Psychological': 229,\n",
       " 'Romance': 1464,\n",
       " 'Samurai': 148,\n",
       " 'School': 1220,\n",
       " 'Sci-Fi': 2070,\n",
       " 'Seinen': 547,\n",
       " 'Shoujo': 652,\n",
       " 'Shoujo Ai': 55,\n",
       " 'Shounen': 1776,\n",
       " 'Shounen Ai': 65,\n",
       " 'Slice of Life': 1220,\n",
       " 'Space': 381,\n",
       " 'Sports': 543,\n",
       " 'Super Power': 465,\n",
       " 'Supernatural': 1037,\n",
       " 'Thriller': 87,\n",
       " 'Vampire': 102,\n",
       " 'Yaoi': 39,\n",
       " 'Yuri': 42}"
      ]
     },
     "execution_count": 21,
     "metadata": {},
     "output_type": "execute_result"
    }
   ],
   "source": [
    "genreNum"
   ]
  },
  {
   "cell_type": "markdown",
   "metadata": {},
   "source": [
    "Normalizirano gleda na celoto"
   ]
  },
  {
   "cell_type": "code",
   "execution_count": 22,
   "metadata": {
    "collapsed": false
   },
   "outputs": [
    {
     "data": {
      "image/png": "[encoded data removed]",
      "text/plain": [
       "<matplotlib.figure.Figure at 0x229094bf9e8>"
      ]
     },
     "metadata": {},
     "output_type": "display_data"
    }
   ],
   "source": [
    "genreNumNorm={}\n",
    "\n",
    "for val in genreNum.keys():\n",
    "    genreNumNorm[val]=genreNum[val]/len(animeGenre)\n",
    "\n",
    "plt.bar(range(len(genreNumNorm)), genreNumNorm.values())\n",
    "plt.xticks(range(len(genreNumNorm)), genreNumNorm.keys())\n",
    "\n",
    "plt.show()"
   ]
  },
  {
   "cell_type": "markdown",
   "metadata": {},
   "source": [
    "Povprečno število žanrov na anime"
   ]
  },
  {
   "cell_type": "code",
   "execution_count": 23,
   "metadata": {
    "collapsed": false
   },
   "outputs": [
    {
     "name": "stdout",
     "output_type": "stream",
     "text": [
      "2.965674312672848\n"
     ]
    }
   ],
   "source": [
    "avgGenresPerAnime=0\n",
    "for val in genreNumNorm.keys():\n",
    "    avgGenresPerAnime=avgGenresPerAnime+genreNumNorm[val]\n",
    "    \n",
    "print(avgGenresPerAnime)"
   ]
  },
  {
   "cell_type": "code",
   "execution_count": null,
   "metadata": {
    "collapsed": true
   },
   "outputs": [],
   "source": []
  }
 ],
 "metadata": {
  "kernelspec": {
   "display_name": "Python 3",
   "language": "python",
   "name": "python3"
  },
  "language_info": {
   "codemirror_mode": {
    "name": "ipython",
    "version": 3
   },
   "file_extension": ".py",
   "mimetype": "text/x-python",
   "name": "python",
   "nbconvert_exporter": "python",
   "pygments_lexer": "ipython3",
   "version": "3.6.0"
  }
 },
 "nbformat": 4,
 "nbformat_minor": 2
}
