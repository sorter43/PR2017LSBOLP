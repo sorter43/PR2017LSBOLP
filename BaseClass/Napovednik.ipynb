{
 "cells": [
  {
   "cell_type": "markdown",
   "metadata": {},
   "source": [
    "# Napovednik\n",
    "\n",
    "## Podatki za obdelavo"
   ]
  },
  {
   "cell_type": "code",
   "execution_count": 2,
   "metadata": {
    "collapsed": true
   },
   "outputs": [],
   "source": [
    "import numpy as np\n",
    "import matplotlib.pyplot as plt\n",
    "from csv import DictReader"
   ]
  },
  {
   "cell_type": "markdown",
   "metadata": {},
   "source": [
    "Ocene"
   ]
  },
  {
   "cell_type": "code",
   "execution_count": 3,
   "metadata": {
    "collapsed": true
   },
   "outputs": [],
   "source": [
    "data = np.loadtxt ('../ratingSAMPLE.csv', delimiter=\",\", skiprows=1)"
   ]
  },
  {
   "cell_type": "markdown",
   "metadata": {},
   "source": [
    "Žanri"
   ]
  },
  {
   "cell_type": "code",
   "execution_count": 4,
   "metadata": {
    "collapsed": true
   },
   "outputs": [],
   "source": [
    "genresCSV = DictReader(open(\"../zanri/statistikaZanrov.csv\", \"rt\", encoding = \"utf-8\"))"
   ]
  },
  {
   "cell_type": "markdown",
   "metadata": {},
   "source": [
    "Pretvorim v lažjeuporabno obliko"
   ]
  },
  {
   "cell_type": "code",
   "execution_count": 5,
   "metadata": {
    "collapsed": true
   },
   "outputs": [],
   "source": [
    "genres=list()\n",
    "\n",
    "for genreLine in genresCSV:\n",
    "    genres.append(genreLine[\"zanr\"])"
   ]
  },
  {
   "cell_type": "markdown",
   "metadata": {},
   "source": [
    "Animeji (v surovi obliki)"
   ]
  },
  {
   "cell_type": "code",
   "execution_count": 6,
   "metadata": {
    "collapsed": true
   },
   "outputs": [],
   "source": [
    "animeDataReader = DictReader(open(\"../anime.csv\", \"rt\", encoding = \"utf-8\"))"
   ]
  },
  {
   "cell_type": "markdown",
   "metadata": {},
   "source": [
    "Dodeljevanje žanrov animejem"
   ]
  },
  {
   "cell_type": "code",
   "execution_count": 7,
   "metadata": {
    "collapsed": true
   },
   "outputs": [],
   "source": [
    "animeGenre=dict()\n",
    "\n",
    "for row in animeDataReader:\n",
    "    i=0\n",
    "    rowGenres={}\n",
    "    for genr in genres:\n",
    "        i=i+1\n",
    "        if genr in row[\"genre\"]:\n",
    "            rowGenres[genr]=True\n",
    "        else:\n",
    "            rowGenres[genr]=False\n",
    "    animeGenre[row[\"anime_id\"]]=rowGenres"
   ]
  },
  {
   "cell_type": "markdown",
   "metadata": {},
   "source": [
    "Štetje žanrov"
   ]
  },
  {
   "cell_type": "code",
   "execution_count": 8,
   "metadata": {
    "collapsed": true
   },
   "outputs": [],
   "source": [
    "genreNum = {}\n",
    "\n",
    "for genr in genres:\n",
    "    genreNum[genr]=0\n",
    "    \n",
    "animeDataReader = DictReader(open(\"../anime.csv\", \"rt\", encoding = \"utf-8\"))\n",
    "\n",
    "for row in animeDataReader:\n",
    "    for genr in genres:\n",
    "        if animeGenre[row[\"anime_id\"]][genr]:\n",
    "            genreNum[genr]=genreNum[genr]+1"
   ]
  },
  {
   "cell_type": "markdown",
   "metadata": {},
   "source": [
    "## Učna in testna množica\n",
    "\n",
    "Bazo bom razdelil na 3 načine (spodaj navedena velikost rezine učne množice):\n",
    " * SLearn: 1/4 učna\n",
    " * MLearn: 1/2 učna\n",
    " * LLearn: 2/3 učna\n"
   ]
  },
  {
   "cell_type": "code",
   "execution_count": 32,
   "metadata": {
    "collapsed": false
   },
   "outputs": [
    {
     "name": "stderr",
     "output_type": "stream",
     "text": [
      "C:\\Users\\Sniper43\\Anaconda3\\lib\\site-packages\\ipykernel\\__main__.py:7: VisibleDeprecationWarning: using a non-integer number instead of an integer will result in an error in the future\n",
      "C:\\Users\\Sniper43\\Anaconda3\\lib\\site-packages\\ipykernel\\__main__.py:8: VisibleDeprecationWarning: using a non-integer number instead of an integer will result in an error in the future\n",
      "C:\\Users\\Sniper43\\Anaconda3\\lib\\site-packages\\ipykernel\\__main__.py:9: VisibleDeprecationWarning: using a non-integer number instead of an integer will result in an error in the future\n",
      "C:\\Users\\Sniper43\\Anaconda3\\lib\\site-packages\\ipykernel\\__main__.py:10: VisibleDeprecationWarning: using a non-integer number instead of an integer will result in an error in the future\n",
      "C:\\Users\\Sniper43\\Anaconda3\\lib\\site-packages\\ipykernel\\__main__.py:11: VisibleDeprecationWarning: using a non-integer number instead of an integer will result in an error in the future\n",
      "C:\\Users\\Sniper43\\Anaconda3\\lib\\site-packages\\ipykernel\\__main__.py:12: VisibleDeprecationWarning: using a non-integer number instead of an integer will result in an error in the future\n"
     ]
    }
   ],
   "source": [
    "dataUnclean=data\n",
    "data=data[data[:,2]!=-1]\n",
    "\n",
    "dataLearn={}\n",
    "dataTest={}\n",
    "\n",
    "dataLearn['S'] = np.array(data[0:len(data)/4])\n",
    "dataTest['S'] = np.array(data[len(data)/4:len(data)])\n",
    "dataLearn['M'] = np.array(data[0:len(data)/2])\n",
    "dataTest['M'] = np.array(data[len(data)/2:len(data)])\n",
    "dataLearn['L'] = np.array(data[0:(2*len(data)/3)])\n",
    "dataTest['L'] = np.array(data[(2*len(data)/3):len(data)])"
   ]
  },
  {
   "cell_type": "markdown",
   "metadata": {},
   "source": [
    "## Kontrolni razred\n",
    "\n",
    "Kot kontrolni razred bom uporabil dodeljevanje povprečnega ratinga vsem animejem."
   ]
  },
  {
   "cell_type": "code",
   "execution_count": 33,
   "metadata": {
    "collapsed": false
   },
   "outputs": [
    {
     "name": "stdout",
     "output_type": "stream",
     "text": [
      "7.83203125\n",
      "7.87683576985\n",
      "7.86392013127\n"
     ]
    }
   ],
   "source": [
    "avgRating={}\n",
    "for lrnSize in ['S','M','L']:\n",
    "    avgRating[lrnSize]=sum(dataLearn[lrnSize][:,2])/len(dataLearn[lrnSize])\n",
    "    print(avgRating[lrnSize])"
   ]
  },
  {
   "cell_type": "markdown",
   "metadata": {},
   "source": [
    "Prva metrika: MSE"
   ]
  },
  {
   "cell_type": "code",
   "execution_count": 34,
   "metadata": {
    "collapsed": false
   },
   "outputs": [],
   "source": [
    "from sklearn.metrics import mean_squared_error\n",
    "from sklearn.metrics import brier_score_loss"
   ]
  },
  {
   "cell_type": "code",
   "execution_count": 35,
   "metadata": {
    "collapsed": false
   },
   "outputs": [],
   "source": [
    "pred={}\n",
    "mseR={}\n",
    "brierS={}\n",
    "for lrnSize in ['S','M','L']:\n",
    "    pred[lrnSize]=np.ones(len(dataTest[lrnSize]))*avgRating[lrnSize]\n",
    "    mseR[lrnSize] = mean_squared_error(dataTest[lrnSize][:,2],pred[lrnSize])\n",
    "    #brierS[lrnSize] = brier_score_loss(dataTest[lrnSize][:,2], pred[lrnSize])  "
   ]
  },
  {
   "cell_type": "code",
   "execution_count": 36,
   "metadata": {
    "collapsed": false
   },
   "outputs": [
    {
     "name": "stdout",
     "output_type": "stream",
     "text": [
      "2.29892939184\n",
      "2.31259267875\n",
      "2.3503440939\n"
     ]
    }
   ],
   "source": [
    "for lrnSize in ['S','M','L']:\n",
    "    print(mseR[lrnSize])"
   ]
  },
  {
   "cell_type": "markdown",
   "metadata": {},
   "source": [
    "## Naive Bayes\n",
    "\n",
    "Z uporabo NB bom nad izbranimi spremenljivkami naredil napoved"
   ]
  },
  {
   "cell_type": "code",
   "execution_count": 37,
   "metadata": {
    "collapsed": true
   },
   "outputs": [],
   "source": [
    "from sklearn.naive_bayes import GaussianNB"
   ]
  },
  {
   "cell_type": "code",
   "execution_count": 55,
   "metadata": {
    "collapsed": false
   },
   "outputs": [
    {
     "name": "stdout",
     "output_type": "stream",
     "text": [
      "0.00466067596567\n",
      "0.0\n",
      "0.0\n"
     ]
    }
   ],
   "source": [
    "gnb = {}\n",
    "\n",
    "allSizes=['S','M','L']\n",
    "selectSizes=['L']\n",
    "predGNB={}\n",
    "for lrnSize in allSizes:\n",
    "    gnb[lrnSize]=GaussianNB()\n",
    "    predGNB[lrnSize]= gnb[lrnSize].fit(dataLearn[lrnSize], dataLearn[lrnSize][:,2])\n",
    "\n",
    "makePredGNB={}\n",
    "for lrnSize in allSizes:\n",
    "    makePredGNB[lrnSize]=predGNB[lrnSize].predict(dataTest[lrnSize])\n",
    "\n",
    "gnbMSE={}\n",
    "for lrnSize in allSizes:\n",
    "    gnbMSE[lrnSize] = mean_squared_error(dataTest[lrnSize][:,2],makePredGNB[lrnSize])\n",
    "for lrnSize in allSizes:\n",
    "    print(gnbMSE[lrnSize])"
   ]
  },
  {
   "cell_type": "markdown",
   "metadata": {},
   "source": [
    "## Beta Fitting"
   ]
  },
  {
   "cell_type": "code",
   "execution_count": 25,
   "metadata": {
    "collapsed": true
   },
   "outputs": [],
   "source": [
    "from scipy.stats import beta"
   ]
  },
  {
   "cell_type": "code",
   "execution_count": 26,
   "metadata": {
    "collapsed": false
   },
   "outputs": [
    {
     "data": {
      "image/png": "[encoded data removed]",
      "text/plain": [
       "<matplotlib.figure.Figure at 0x1fed84ade48>"
      ]
     },
     "metadata": {},
     "output_type": "display_data"
    }
   ],
   "source": [
    "a=8\n",
    "b=2\n",
    "n=1000\n",
    "\n",
    "sample=beta.rvs(a, b, size=n)\n",
    "\n",
    "xr = np.linspace(0, 1, 100)# interval X \n",
    "P  = [beta.pdf(x, a, b) for x in xr]  # porazdelitvena funkcija\n",
    "\n",
    "# Histogram - porazdelitev naključlnih VZORCEV x glede na P(x)\n",
    "\n",
    "\n",
    "plt.figure(figsize=(10, 4))\n",
    "plt.subplot(1, 2, 1)\n",
    "plt.title(\"Vzorec\")\n",
    "plt.hist(sample, color=\"red\")\n",
    "plt.xlabel(\"X\")\n",
    "plt.ylabel(\"Število primerov\")\n",
    "\n",
    "# Graf porazdelitvene funkcije\n",
    "plt.subplot(1, 2, 2)\n",
    "plt.title(\"Graf porazdelitve\")\n",
    "plt.plot(xr, P, color=\"red\")   # nariši P(x)\n",
    "plt.ylabel(\"P(x)\")\n",
    "plt.xlabel(\"X\")\n",
    "plt.show()"
   ]
  },
  {
   "cell_type": "code",
   "execution_count": 27,
   "metadata": {
    "collapsed": false
   },
   "outputs": [
    {
     "name": "stderr",
     "output_type": "stream",
     "text": [
      "C:\\Users\\Sniper43\\Anaconda3\\lib\\site-packages\\scipy\\stats\\_continuous_distns.py:407: RuntimeWarning: invalid value encountered in sqrt\n",
      "  sk = 2*(b-a)*sqrt(a + b + 1) / (a + b + 2) / sqrt(a*b)\n"
     ]
    },
    {
     "data": {
      "image/png": "[encoded data removed]",
      "text/plain": [
       "<matplotlib.figure.Figure at 0x1fed80d52e8>"
      ]
     },
     "metadata": {},
     "output_type": "display_data"
    }
   ],
   "source": [
    "parameters = beta.fit(sample)\n",
    "P_fit = [beta.pdf(x, *parameters) for x in xr ]\n",
    "\n",
    "plt.figure()\n",
    "plt.hist(sample,    label=\"Vzorec\", normed=True)\n",
    "plt.plot(xr, P,     label=\"P(X) resnična\", linewidth=2.0)\n",
    "plt.plot(xr, P_fit, label=\"P(X) ocenjena\", linewidth=2.0)   # ocenjena porazdelitev je model\n",
    "plt.legend()\n",
    "plt.show()"
   ]
  },
  {
   "cell_type": "code",
   "execution_count": null,
   "metadata": {
    "collapsed": true
   },
   "outputs": [],
   "source": []
  },
  {
   "cell_type": "code",
   "execution_count": null,
   "metadata": {
    "collapsed": true
   },
   "outputs": [],
   "source": []
  },
  {
   "cell_type": "code",
   "execution_count": null,
   "metadata": {
    "collapsed": true
   },
   "outputs": [],
   "source": []
  }
 ],
 "metadata": {
  "kernelspec": {
   "display_name": "Python 3",
   "language": "python",
   "name": "python3"
  },
  "language_info": {
   "codemirror_mode": {
    "name": "ipython",
    "version": 3
   },
   "file_extension": ".py",
   "mimetype": "text/x-python",
   "name": "python",
   "nbconvert_exporter": "python",
   "pygments_lexer": "ipython3",
   "version": "3.6.0"
  }
 },
 "nbformat": 4,
 "nbformat_minor": 2
}
